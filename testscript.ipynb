{
    "cells": [
        {
            "attachments": {},
            "cell_type": "markdown",
            "metadata": {},
            "source": [
                "# Testscript.ipynb\n",
                "\n",
                "A Jupyter notebook for testing the `ArBuWe.py` module.\n",
                "Doubles as a *\"tutorial\"* of sorts."
            ]
        },
        {
            "cell_type": "code",
            "execution_count": null,
            "metadata": {},
            "outputs": [],
            "source": [
                "## Import module\n",
                "\n",
                "import ArBuWe as abw"
            ]
        },
        {
            "cell_type": "code",
            "execution_count": null,
            "metadata": {},
            "outputs": [],
            "source": [
                "## Initialize input parameters\n",
                "\n",
                "shapefile_path = \"data/FI.shp\"\n",
                "raster_path = \"data/gfa_res_curr_density_epsg4326.tif\"\n",
                "weather_start = \"2010-06-01\"\n",
                "weather_end = \"2010-06-02\""
            ]
        },
        {
            "cell_type": "code",
            "execution_count": null,
            "metadata": {},
            "outputs": [],
            "source": [
                "## Try creating a `Shapefile` and inspect the uniform raster\n",
                "\n",
                "import matplotlib.pyplot as plt\n",
                "ec = (0,0,0,1) # Edge color for the vector plots (black)\n",
                "fc = (0,0,0,0) # Face color for the vector plots (transparent)\n",
                "lw = 0.2 # Line width for the vector plots\n",
                "\n",
                "shp = abw.Shapefile(shapefile_path)\n",
                "\n",
                "f = abw.plot_layout(shp, shp.raster, dpi=100, title=\"Shapefile\")"
            ]
        },
        {
            "cell_type": "code",
            "execution_count": null,
            "metadata": {},
            "outputs": [],
            "source": [
                "## Create weights for testing.\n",
                "\n",
                "#import random\n",
                "\n",
                "#weights = {'KU005':0.24, 'KU010':0.73, 'KU009':0.03,}\n",
                "#weights = {lid:random.uniform(0,1) for lid in shp.data.index}\n",
                "weights = {lid:1 for lid in shp.data.index}"
            ]
        },
        {
            "cell_type": "code",
            "execution_count": null,
            "metadata": {},
            "outputs": [],
            "source": [
                "## Try creating the cutout\n",
                "\n",
                "cutout = abw.prepare_cutout(shp, weather_start, weather_end)"
            ]
        },
        {
            "cell_type": "code",
            "execution_count": null,
            "metadata": {},
            "outputs": [],
            "source": [
                "## Try preparing the `layout` raster and inspect nonzero data.\n",
                "\n",
                "raster, layout = abw.prepare_layout(shp, cutout, weights, raster_path, resampling=5)"
            ]
        },
        {
            "cell_type": "code",
            "execution_count": null,
            "metadata": {},
            "outputs": [],
            "source": [
                "## Plot the raster and layout\n",
                "\n",
                "fig1 = abw.plot_layout(shp, raster, title=\"Raster\", dpi=300)\n",
                "fig2 = abw.plot_layout(shp, layout, title=\"Layout\", dpi=300)"
            ]
        },
        {
            "cell_type": "code",
            "execution_count": null,
            "metadata": {},
            "outputs": [],
            "source": [
                "## Process weather data for the cutout.\n",
                "\n",
                "ambient_temperature, diffuse_irradiation, direct_irradiation = abw.process_weather(cutout, layout)"
            ]
        },
        {
            "cell_type": "code",
            "execution_count": null,
            "metadata": {},
            "outputs": [],
            "source": [
                "# Plot temperature\n",
                "\n",
                "ambient_temperature.plot()"
            ]
        },
        {
            "cell_type": "code",
            "execution_count": null,
            "metadata": {},
            "outputs": [],
            "source": [
                "# Plot diffuse irradiation\n",
                "\n",
                "diffuse_irradiation.plot()"
            ]
        },
        {
            "cell_type": "code",
            "execution_count": null,
            "metadata": {},
            "outputs": [],
            "source": [
                "# Plot direct irradiation\n",
                "\n",
                "import pandas as pd\n",
                "\n",
                "pd.DataFrame(direct_irradiation).plot()"
            ]
        },
        {
            "cell_type": "code",
            "execution_count": null,
            "metadata": {},
            "outputs": [],
            "source": [
                "## Now do it all again using the convenience function:\n",
                "\n",
                "ambient_temperature, diffuse_irradiation, direct_irradiation = abw.aggregate_weather(shapefile_path, weights, weather_start, weather_end, raster_path)\n",
                "pd.DataFrame(ambient_temperature).plot()\n",
                "pd.DataFrame(diffuse_irradiation).plot()\n",
                "pd.DataFrame(direct_irradiation).plot()"
            ]
        },
        {
            "cell_type": "markdown",
            "metadata": {},
            "source": [
                "# ArBuWe development stuff\n",
                "\n",
                "The below cells were used for developing ArBuWe to be able to handle xarray-level initial heating/cooling demand calculations, as well as checking that the `atlite`\n",
                "tracking options work for irradiation functions as well.\n",
                "\n",
                "The below stuff is most likely useless, but I'm leaving it in as potential examples."
            ]
        },
        {
            "cell_type": "code",
            "execution_count": null,
            "metadata": {},
            "outputs": [],
            "source": [
                "# Raw diffuse irradiation\n",
                "\n",
                "diffi = cutout.irradiation(\n",
                "    orientation={\"slope\": 0.0, \"azimuth\": 0.0},\n",
                "    irradiation=\"diffuse\",\n",
                "    layout=layout, # Remove this line to get xarray level results.\n",
                ")\n",
                "diffi.plot()"
            ]
        },
        {
            "cell_type": "code",
            "execution_count": null,
            "metadata": {},
            "outputs": [],
            "source": [
                "# Direct irradiation?\n",
                "\n",
                "dirs = {\n",
                "    \"horizontal\": (0.0, 0.0),\n",
                "    \"north\": (90.0, 0.0),\n",
                "    \"east\": (90.0, 90.0),\n",
                "    \"south\": (90.0, 180.0),\n",
                "    \"west\": (90.0, 270.0),\n",
                "}\n",
                "\n",
                "diri_none = {\n",
                "    dir: cutout.irradiation(\n",
                "        orientation={\"slope\": sl, \"azimuth\": az},\n",
                "        irradiation=\"direct\",\n",
                "        layout=layout, # Remove this line to get xarray level results.\n",
                "    )\n",
                "    for dir, (sl, az) in dirs.items()\n",
                "}\n",
                "\n",
                "diri_vertical = {\n",
                "    dir: cutout.irradiation(\n",
                "        orientation={\"slope\": sl, \"azimuth\": az},\n",
                "        irradiation=\"direct\",\n",
                "        tracking=\"vertical\",\n",
                "        layout=layout, # Remove this line to get xarray level results.\n",
                "    )\n",
                "    for dir, (sl, az) in dirs.items()\n",
                "}\n",
                "\n",
                "# Plot comparison, \"horizontal\" shouldn't depend on tracking.\n",
                "\n",
                "diri_none[\"horizontal\"].plot()\n",
                "diri_vertical[\"horizontal\"].plot()"
            ]
        },
        {
            "cell_type": "code",
            "execution_count": null,
            "metadata": {},
            "outputs": [],
            "source": [
                "# Plot comparison, no tracking should show 4 different cardinal directions (plus horizontal).\n",
                "\n",
                "for dir, (sl, az) in dirs.items():\n",
                "    diri_none[dir].plot()"
            ]
        },
        {
            "cell_type": "code",
            "execution_count": null,
            "metadata": {},
            "outputs": [],
            "source": [
                "# Plot comparison, vertical axis tracking should result in identical radiation for all cardinal directions (plus horizontal).\n",
                "\n",
                "for dir, (sl, az) in dirs.items():\n",
                "    diri_vertical[dir].plot()"
            ]
        },
        {
            "cell_type": "code",
            "execution_count": null,
            "metadata": {},
            "outputs": [],
            "source": [
                "# Plot comparison, vertical axis tracking vs no tracking?\n",
                "\n",
                "for dir, (sl, az) in dirs.items():\n",
                "    diri_none[dir].plot()\n",
                "    diri_vertical[dir].plot()"
            ]
        },
        {
            "cell_type": "markdown",
            "metadata": {},
            "source": [
                "## Seems reasonable enough.\n",
                "\n",
                "Vertical axis tracking seems to work as intended in `atlite`.\n",
                "Since we likely won't ever know the actual distribution of window and envelope surface\n",
                "areas towards the cardinal directions *(or any direction to be frank)* on the\n",
                "building-stock-scale, we might as well assume the vertical envelope areas to be more or less equally distributed.\n",
                "\n",
                "Thus, we should be able to use the `vertical` axis tracking option in `atlite` to\n",
                "calculate the effective solar irradiation on the vertical envelope.\n",
                "Naturally, this must take into account that not all of the envelope surface faces\n",
                "the correct way, but that shouldn't be an issue.\n",
                "\n",
                "\n",
                "### Next steps: Draft the calculations for the heating/cooling demand\n",
                "\n",
                "What coefficients do we actually need from ArBuMo, and how to efficiently manage\n",
                "the weather stuff for thermal mass nodes."
            ]
        },
        {
            "cell_type": "code",
            "execution_count": null,
            "metadata": {},
            "outputs": [],
            "source": []
        }
    ],
    "metadata": {
        "kernelspec": {
            "display_name": "Python 3.8.14",
            "language": "python",
            "name": "python3"
        },
        "language_info": {
            "codemirror_mode": {
                "name": "ipython",
                "version": 3
            },
            "file_extension": ".py",
            "mimetype": "text/x-python",
            "name": "python",
            "nbconvert_exporter": "python",
            "pygments_lexer": "ipython3",
            "version": "3.11.8"
        },
        "orig_nbformat": 4,
        "vscode": {
            "interpreter": {
                "hash": "64d5ff2237bad89141841d55ad00e98d09d1a3606a909d180b30c89cb53acad7"
            }
        }
    },
    "nbformat": 4,
    "nbformat_minor": 2
}
